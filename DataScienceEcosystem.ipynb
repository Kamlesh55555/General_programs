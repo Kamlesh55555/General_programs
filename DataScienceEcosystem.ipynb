{
 "cells": [
  {
   "cell_type": "code",
   "execution_count": null,
   "id": "c013415e-4107-4394-af08-dc5e8fb34841",
   "metadata": {},
   "outputs": [],
   "source": [
    "#Exercise 1: Create a Jupyter Notebook\n",
    "#create a notebook called \"DataScienceEcosystem\""
   ]
  },
  {
   "cell_type": "code",
   "execution_count": null,
   "id": "46d6ffe8-585b-4eb1-8098-61299f73a16d",
   "metadata": {},
   "outputs": [],
   "source": []
  },
  {
   "cell_type": "code",
   "execution_count": null,
   "id": "b05f72ee-488e-40d6-9dbe-2fcc4b32e4b6",
   "metadata": {},
   "outputs": [],
   "source": []
  },
  {
   "cell_type": "code",
   "execution_count": null,
   "id": "78df43f8-1f05-4ca6-8ff0-dc2ec14897e0",
   "metadata": {},
   "outputs": [],
   "source": [
    "#Exercise 2: Create markdown cell with title of the notebook"
   ]
  },
  {
   "cell_type": "markdown",
   "id": "103703ba-45b8-4e3b-97d5-3f0bfd6aeab2",
   "metadata": {},
   "source": [
    "# Data Science Tools and Ecosystem"
   ]
  },
  {
   "cell_type": "code",
   "execution_count": null,
   "id": "d89b5d8d-22c9-4d03-a261-639850255b4e",
   "metadata": {},
   "outputs": [],
   "source": []
  },
  {
   "cell_type": "code",
   "execution_count": null,
   "id": "67e5dd41-c1ad-4625-ae80-1855c910a14c",
   "metadata": {},
   "outputs": [],
   "source": []
  },
  {
   "cell_type": "code",
   "execution_count": null,
   "id": "7dc42fa8-a5b3-486b-87e0-d0f003759b3f",
   "metadata": {},
   "outputs": [],
   "source": [
    "#Exercise 3 - Create a markdown cell for an introduction"
   ]
  },
  {
   "cell_type": "markdown",
   "id": "9b2cc36a-f8fb-48b5-b82b-83decf9f141f",
   "metadata": {
    "tags": []
   },
   "source": [
    "In this notebook, Data Science Tools and Ecosystem are summarized."
   ]
  },
  {
   "cell_type": "code",
   "execution_count": null,
   "id": "10bc42ea-51fd-4fc3-a1d6-421b064c39a2",
   "metadata": {},
   "outputs": [],
   "source": []
  },
  {
   "cell_type": "code",
   "execution_count": null,
   "id": "fe8850fa-3afb-43a5-86f9-57c518ecfb33",
   "metadata": {},
   "outputs": [],
   "source": []
  },
  {
   "cell_type": "code",
   "execution_count": null,
   "id": "429f777e-e859-4694-afa8-a2a8f8794a59",
   "metadata": {},
   "outputs": [],
   "source": [
    "#Exercise 4 - Create a markdown cell to list data science languages"
   ]
  },
  {
   "cell_type": "markdown",
   "id": "916f84d0-777e-4cac-a04f-b8c4d75ed765",
   "metadata": {},
   "source": [
    "Some of the popular languages that Data Scientists use are:\n",
    "1. python\n",
    "2. R\n",
    "3. scala\n",
    "4. java"
   ]
  },
  {
   "cell_type": "code",
   "execution_count": null,
   "id": "a61b00e6-a39e-4786-b97f-e986c8495dac",
   "metadata": {},
   "outputs": [],
   "source": []
  },
  {
   "cell_type": "code",
   "execution_count": null,
   "id": "48c8ca78-d263-46ab-90a5-62091c01e5ba",
   "metadata": {},
   "outputs": [],
   "source": []
  },
  {
   "cell_type": "code",
   "execution_count": null,
   "id": "919b5200-cd69-497e-859c-cff9cb753f0c",
   "metadata": {},
   "outputs": [],
   "source": [
    "#Exercise 5 - Create a markdown cell to list data science libraries"
   ]
  },
  {
   "cell_type": "markdown",
   "id": "fb1fa1f0-8a37-4adc-b100-91b10b9468b8",
   "metadata": {},
   "source": [
    "Some of the commonly used libraries used by Data Scientists include:\n",
    "1. scikit-learn\n",
    "2. NumPy\n",
    "3. MatPlotLib\n",
    "4. Scipy"
   ]
  },
  {
   "cell_type": "code",
   "execution_count": null,
   "id": "598b8624-4868-456a-a9ff-35890496c133",
   "metadata": {},
   "outputs": [],
   "source": []
  },
  {
   "cell_type": "code",
   "execution_count": null,
   "id": "1613c86f-6865-405f-92e0-8f153136e842",
   "metadata": {},
   "outputs": [],
   "source": []
  },
  {
   "cell_type": "code",
   "execution_count": null,
   "id": "8fbabc8c-921a-4712-adc7-53c4ed503afb",
   "metadata": {},
   "outputs": [],
   "source": [
    "Exercise 6 - Create a markdown cell with a table of Data Science tools"
   ]
  },
  {
   "cell_type": "markdown",
   "id": "4a1e6568-8470-4f41-b3ca-f0bfcdfe42e7",
   "metadata": {
    "tags": []
   },
   "source": [
    "| Data Science Tools | \n",
    "| -------------| \n",
    "| pandas |\n",
    "| hadoop |\n",
    "| spark |"
   ]
  },
  {
   "cell_type": "code",
   "execution_count": null,
   "id": "a1e5fbd1-84ab-424b-a8a5-302c756b68f7",
   "metadata": {},
   "outputs": [],
   "source": []
  },
  {
   "cell_type": "code",
   "execution_count": null,
   "id": "34c87f18-1b3d-427b-9980-6e4f3b4d3697",
   "metadata": {},
   "outputs": [],
   "source": []
  },
  {
   "cell_type": "code",
   "execution_count": null,
   "id": "53fc974e-ae14-4e7e-8976-20e61ce83aa5",
   "metadata": {},
   "outputs": [],
   "source": [
    "#Exercise 7 - Create a markdown cell introducing arithmetic expression examples"
   ]
  },
  {
   "cell_type": "markdown",
   "id": "a95997d6-2d3a-4703-bd72-04cb335c460a",
   "metadata": {},
   "source": [
    "### Below are a few examples of evaluating arithmetic expressions in Python"
   ]
  },
  {
   "cell_type": "code",
   "execution_count": 8,
   "id": "875b29c8-57c4-4584-ba79-eea06d4919cd",
   "metadata": {
    "tags": []
   },
   "outputs": [
    {
     "data": {
      "text/plain": [
       "9"
      ]
     },
     "execution_count": 8,
     "metadata": {},
     "output_type": "execute_result"
    }
   ],
   "source": [
    "3+9-6+3"
   ]
  },
  {
   "cell_type": "code",
   "execution_count": 7,
   "id": "71180e08-b1b9-4783-8c70-1eb733157fc0",
   "metadata": {
    "tags": []
   },
   "outputs": [
    {
     "data": {
      "text/plain": [
       "56.0"
      ]
     },
     "execution_count": 7,
     "metadata": {},
     "output_type": "execute_result"
    }
   ],
   "source": [
    "8*700/100"
   ]
  },
  {
   "cell_type": "code",
   "execution_count": null,
   "id": "493aa8f4-0d87-41eb-a746-cc693f7096e4",
   "metadata": {},
   "outputs": [],
   "source": []
  },
  {
   "cell_type": "code",
   "execution_count": null,
   "id": "53538abf-2d81-4505-8a9d-ade7098f8b5b",
   "metadata": {},
   "outputs": [],
   "source": []
  },
  {
   "cell_type": "code",
   "execution_count": null,
   "id": "d3f37235-e546-4f15-a309-9fe741ff6b20",
   "metadata": {},
   "outputs": [],
   "source": [
    "#Exercise 8 - Create a code cell to multiply and add numbers"
   ]
  },
  {
   "cell_type": "code",
   "execution_count": null,
   "id": "2ded8da0-66e8-413e-a2fb-277300c74cc5",
   "metadata": {},
   "outputs": [],
   "source": [
    "#This a simple arithmetic expression to mutiply then add integers"
   ]
  },
  {
   "cell_type": "code",
   "execution_count": 2,
   "id": "ae4a1471-b50f-445b-bd3a-e7e8dea3a3e5",
   "metadata": {
    "tags": []
   },
   "outputs": [
    {
     "data": {
      "text/plain": [
       "17"
      ]
     },
     "execution_count": 2,
     "metadata": {},
     "output_type": "execute_result"
    }
   ],
   "source": [
    "(3*4)+5"
   ]
  },
  {
   "cell_type": "code",
   "execution_count": null,
   "id": "260a875a-fc78-479f-8730-c2faec832fab",
   "metadata": {},
   "outputs": [],
   "source": []
  },
  {
   "cell_type": "code",
   "execution_count": null,
   "id": "70eef40c-28e9-435f-8360-b19d74c84869",
   "metadata": {},
   "outputs": [],
   "source": []
  },
  {
   "cell_type": "code",
   "execution_count": null,
   "id": "f19f0e26-2c4f-4fd8-ba2a-f71efb231874",
   "metadata": {},
   "outputs": [],
   "source": [
    "#Exercise 9 - Create a code cell to convert minutes to hours"
   ]
  },
  {
   "cell_type": "code",
   "execution_count": 3,
   "id": "6912689b-8c91-4a6f-864c-32f335045959",
   "metadata": {
    "tags": []
   },
   "outputs": [
    {
     "data": {
      "text/plain": [
       "3.3333333333333335"
      ]
     },
     "execution_count": 3,
     "metadata": {},
     "output_type": "execute_result"
    }
   ],
   "source": [
    "#This will convert 200 minutes to hours by diving by 60\n",
    "minutes = 200\n",
    "hours = minutes / 60\n",
    "hours"
   ]
  },
  {
   "cell_type": "code",
   "execution_count": null,
   "id": "f1ff7c4d-b352-472b-85e0-cc9a57db7e16",
   "metadata": {},
   "outputs": [],
   "source": []
  },
  {
   "cell_type": "code",
   "execution_count": null,
   "id": "9059e44c-60b9-42fb-9713-2bb967dd34a0",
   "metadata": {},
   "outputs": [],
   "source": []
  },
  {
   "cell_type": "code",
   "execution_count": null,
   "id": "5d79480a-b5a5-4d85-965b-205457f05b7c",
   "metadata": {},
   "outputs": [],
   "source": [
    "#Exercise 10 - Insert a markdown cell to list Objectives"
   ]
  },
  {
   "cell_type": "markdown",
   "id": "a9c02e97-5376-4719-ab2b-ed56e5bb848b",
   "metadata": {},
   "source": [
    "In this notebook, Data Science Tools and Ecosystem are summarized."
   ]
  },
  {
   "cell_type": "markdown",
   "id": "1d84800d-64ac-44a1-86ca-80d4c09a24a6",
   "metadata": {},
   "source": [
    "# Objectives:\n",
    "- List popular languages for Data Science\n",
    "- Create a code cell to convert minutes to hours\n",
    "- Create a markdown cell introducing arithmetic expression examples\n",
    "- Create markdown cell with title of the notebook"
   ]
  },
  {
   "cell_type": "code",
   "execution_count": null,
   "id": "cb8d732b-c1ca-4a4a-b98c-fe7509413536",
   "metadata": {},
   "outputs": [],
   "source": []
  },
  {
   "cell_type": "code",
   "execution_count": null,
   "id": "d6ce625e-694e-44d7-9859-7366ac034bf0",
   "metadata": {},
   "outputs": [],
   "source": []
  },
  {
   "cell_type": "code",
   "execution_count": null,
   "id": "4f6c85f6-6b9d-4eb3-8a6b-88d1f40b1619",
   "metadata": {},
   "outputs": [],
   "source": [
    "#Exercise 11 - Create a markdown cell to indicate the Author's name"
   ]
  },
  {
   "cell_type": "markdown",
   "id": "7ad297bc-3821-4597-98cd-3dc60d77a003",
   "metadata": {},
   "source": [
    "## Author\n",
    "kamlesh suryawanshi"
   ]
  },
  {
   "cell_type": "code",
   "execution_count": null,
   "id": "14d1d17f-16e0-4a86-91f8-3e0e6fd21acb",
   "metadata": {},
   "outputs": [],
   "source": [
    "#Exercise 12 - Share your notebook through GitHub"
   ]
  },
  {
   "cell_type": "code",
   "execution_count": null,
   "id": "6feb29da-e59c-4a41-915b-925764a1217f",
   "metadata": {},
   "outputs": [],
   "source": [
    "#Exercise 13 -Take a screenshot of the first page of the notebook and save it as 1-notebook.png"
   ]
  }
 ],
 "metadata": {
  "kernelspec": {
   "display_name": "Python",
   "language": "python",
   "name": "conda-env-python-py"
  },
  "language_info": {
   "codemirror_mode": {
    "name": "ipython",
    "version": 3
   },
   "file_extension": ".py",
   "mimetype": "text/x-python",
   "name": "python",
   "nbconvert_exporter": "python",
   "pygments_lexer": "ipython3",
   "version": "3.7.12"
  }
 },
 "nbformat": 4,
 "nbformat_minor": 5
}
